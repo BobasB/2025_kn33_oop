{
 "cells": [
  {
   "cell_type": "markdown",
   "id": "2bd96a57",
   "metadata": {},
   "source": [
    "## Пишемо першу програму"
   ]
  },
  {
   "cell_type": "code",
   "execution_count": 3,
   "id": "36a96d93",
   "metadata": {},
   "outputs": [
    {
     "name": "stdout",
     "output_type": "stream",
     "text": [
      "Hello, world!\n"
     ]
    }
   ],
   "source": [
    "n = \"Hello, world!\"\n",
    "print(n)"
   ]
  },
  {
   "cell_type": "code",
   "execution_count": 4,
   "id": "01a1b6f3",
   "metadata": {},
   "outputs": [
    {
     "name": "stdout",
     "output_type": "stream",
     "text": [
      "Hello, world! Ми вже навчилися створювати змінні та виводити їх на екран!\n"
     ]
    }
   ],
   "source": [
    "print(n, \"Ми вже навчилися створювати змінні та виводити їх на екран!\")"
   ]
  }
 ],
 "metadata": {
  "kernelspec": {
   "display_name": "Python 3",
   "language": "python",
   "name": "python3"
  },
  "language_info": {
   "codemirror_mode": {
    "name": "ipython",
    "version": 3
   },
   "file_extension": ".py",
   "mimetype": "text/x-python",
   "name": "python",
   "nbconvert_exporter": "python",
   "pygments_lexer": "ipython3",
   "version": "3.12.9"
  }
 },
 "nbformat": 4,
 "nbformat_minor": 5
}
